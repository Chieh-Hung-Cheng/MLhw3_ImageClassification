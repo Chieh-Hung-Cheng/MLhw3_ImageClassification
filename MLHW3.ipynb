{
 "cells": [
  {
   "cell_type": "code",
   "execution_count": 1,
   "outputs": [
    {
     "name": "stdout",
     "output_type": "stream",
     "text": [
      "Imports Done\n"
     ]
    }
   ],
   "source": [
    "# IMPORTS\n",
    "# Numerical Operations\n",
    "import math\n",
    "import numpy as np\n",
    "\n",
    "# Reading/Writing Data\n",
    "import pandas as pd\n",
    "import os\n",
    "import csv\n",
    "\n",
    "# For Progress Bar\n",
    "from tqdm import tqdm\n",
    "\n",
    "# Pytorch\n",
    "import torch\n",
    "import torch.nn as nn\n",
    "from torch.utils.data import Dataset, DataLoader, random_split\n",
    "\n",
    "# For plotting learning curve\n",
    "from torch.utils.tensorboard import SummaryWriter\n",
    "\n",
    "# Other Common Modules\n",
    "from datetime import datetime, timedelta\n",
    "import importlib\n",
    "\n",
    "# IMPORT COMPLETE\n",
    "print(\"Imports Done\")"
   ],
   "metadata": {
    "collapsed": false,
    "pycharm": {
     "name": "#%%\n"
    }
   }
  },
  {
   "cell_type": "code",
   "execution_count": 2,
   "outputs": [
    {
     "name": "stdout",
     "output_type": "stream",
     "text": [
      "Running on Local\n"
     ]
    }
   ],
   "source": [
    "if 'google.colab' in str(get_ipython()):\n",
    "    print('Running on CoLab')\n",
    "    timenow = datetime.now()+timedelta(hours=8)\n",
    "    from google.colab import drive\n",
    "    drive.mount('/content/drive')\n",
    "    os.chdir(\"/content/drive/MyDrive/Chronical/2023Spring/ML_drive/MLHW3\")\n",
    "else:\n",
    "    print('Running on Local')\n",
    "    timenow = datetime.now()"
   ],
   "metadata": {
    "collapsed": false,
    "pycharm": {
     "name": "#%%\n"
    }
   }
  },
  {
   "cell_type": "code",
   "source": [
    "import Config\n",
    "importlib.reload(Config)\n",
    "from Config import Config"
   ],
   "metadata": {
    "id": "nBCc7FfNULbz",
    "pycharm": {
     "name": "#%%\n"
    }
   },
   "execution_count": 3,
   "outputs": []
  },
  {
   "cell_type": "code",
   "execution_count": 4,
   "outputs": [
    {
     "name": "stdout",
     "output_type": "stream",
     "text": [
      "Config.base_path='G:\\\\My Drive\\\\Chronical\\\\2023Spring\\\\ML_drive\\\\MLHW3'\n",
      "Config.data_path='G:\\\\My Drive\\\\Chronical\\\\2023Spring\\\\ML_drive\\\\MLHW3\\\\data'\n",
      "Config.save_path='G:\\\\My Drive\\\\Chronical\\\\2023Spring\\\\ML_drive\\\\MLHW3\\\\.model'\n",
      "Config.output_path='G:\\\\My Drive\\\\Chronical\\\\2023Spring\\\\ML_drive\\\\MLHW3\\\\output'\n",
      "Config.time_string='17480711'\n"
     ]
    }
   ],
   "source": [
    "Config.base_path = os.getcwd()\n",
    "Config.data_path = os.path.join(Config.base_path, \"data\")\n",
    "Config.save_path = os.path.join(Config.base_path, \".model\")\n",
    "Config.output_path = os.path.join(Config.base_path, \"output\")\n",
    "\n",
    "if not os.path.isdir(Config.save_path):\n",
    "    os.mkdir(Config.save_path)\n",
    "if not os.path.isdir(Config.output_path):\n",
    "    os.mkdir(Config.output_path)\n",
    "\n",
    "Config.time_string = f\"{timenow.hour:02d}{timenow.minute:02d}{timenow.month:02d}{timenow.day:02d}\"\n",
    "\n",
    "print(f\"{Config.base_path=}\")\n",
    "print(f\"{Config.data_path=}\")\n",
    "print(f\"{Config.save_path=}\")\n",
    "print(f\"{Config.output_path=}\")\n",
    "print(f\"{Config.time_string=}\")"
   ],
   "metadata": {
    "pycharm": {
     "name": "#%%\n"
    },
    "id": "U_nihHSPUAQT",
    "executionInfo": {
     "status": "aborted",
     "timestamp": 1688984385399,
     "user_tz": -480,
     "elapsed": 5,
     "user": {
      "displayName": "Chieh-Hung Cheng",
      "userId": "08338419796432546381"
     }
    }
   }
  },
  {
   "cell_type": "code",
   "execution_count": 5,
   "outputs": [
    {
     "name": "stdout",
     "output_type": "stream",
     "text": [
      "Randomness Fixed\n"
     ]
    }
   ],
   "source": [
    "# RANDOMNESS FIXED\n",
    "from utils import fix_randomness\n",
    "fix_randomness(Config.seed)"
   ],
   "metadata": {
    "pycharm": {
     "name": "#%%\n"
    },
    "id": "48NI2CbKUAQU",
    "executionInfo": {
     "status": "aborted",
     "timestamp": 1688984385400,
     "user_tz": -480,
     "elapsed": 6,
     "user": {
      "displayName": "Chieh-Hung Cheng",
      "userId": "08338419796432546381"
     }
    }
   }
  },
  {
   "cell_type": "markdown",
   "source": [
    "# Dataset and DataLoader"
   ],
   "metadata": {
    "collapsed": false,
    "pycharm": {
     "name": "#%% md\n"
    },
    "id": "_IC-wBLQUAQU"
   }
  },
  {
   "cell_type": "code",
   "execution_count": 14,
   "outputs": [
    {
     "data": {
      "text/plain": "<module 'ImageParser' from 'G:\\\\My Drive\\\\Chronical\\\\2023Spring\\\\ML_drive\\\\MLHW3\\\\ImageParser.py'>"
     },
     "execution_count": 14,
     "metadata": {},
     "output_type": "execute_result"
    }
   ],
   "source": [
    "import ImageParser\n",
    "importlib.reload(ImageParser)"
   ],
   "metadata": {
    "pycharm": {
     "name": "#%%\n"
    },
    "id": "JJI8aQsaUAQV",
    "executionInfo": {
     "status": "aborted",
     "timestamp": 1688984385400,
     "user_tz": -480,
     "elapsed": 6,
     "user": {
      "displayName": "Chieh-Hung Cheng",
      "userId": "08338419796432546381"
     }
    }
   }
  },
  {
   "cell_type": "code",
   "execution_count": 15,
   "outputs": [
    {
     "name": "stderr",
     "output_type": "stream",
     "text": [
      "100%|██████████| 10000/10000 [04:24<00:00, 37.74it/s]\n",
      "100%|██████████| 3643/3643 [01:56<00:00, 31.31it/s]\n"
     ]
    }
   ],
   "source": [
    "train_image_parser = ImageParser.ImageParser(\"train\")\n",
    "valid_image_parser = ImageParser.ImageParser(\"valid\")"
   ],
   "metadata": {
    "pycharm": {
     "name": "#%%\n"
    },
    "id": "FgJ9f16jUAQW",
    "executionInfo": {
     "status": "aborted",
     "timestamp": 1688984385400,
     "user_tz": -480,
     "elapsed": 6,
     "user": {
      "displayName": "Chieh-Hung Cheng",
      "userId": "08338419796432546381"
     }
    }
   }
  },
  {
   "cell_type": "code",
   "execution_count": 16,
   "outputs": [],
   "source": [
    "train_dataset = ImageParser.ImageDataset(train_image_parser.image_list, train_image_parser.label_list)\n",
    "valid_dataset = ImageParser.ImageDataset(valid_image_parser.image_list, valid_image_parser.label_list)"
   ],
   "metadata": {
    "pycharm": {
     "name": "#%%\n"
    },
    "id": "8-R4-HnrUAQW",
    "executionInfo": {
     "status": "aborted",
     "timestamp": 1688984385400,
     "user_tz": -480,
     "elapsed": 6,
     "user": {
      "displayName": "Chieh-Hung Cheng",
      "userId": "08338419796432546381"
     }
    }
   }
  },
  {
   "cell_type": "code",
   "execution_count": 17,
   "outputs": [],
   "source": [
    "Config.train_loader = DataLoader(train_dataset, Config.batch_size, shuffle=True)\n",
    "Config.valid_loader = DataLoader(valid_dataset, Config.batch_size, shuffle=True)"
   ],
   "metadata": {
    "pycharm": {
     "name": "#%%\n"
    },
    "id": "x4IG9ty3UAQW",
    "executionInfo": {
     "status": "aborted",
     "timestamp": 1688984385401,
     "user_tz": -480,
     "elapsed": 7,
     "user": {
      "displayName": "Chieh-Hung Cheng",
      "userId": "08338419796432546381"
     }
    }
   }
  },
  {
   "cell_type": "markdown",
   "source": [
    "# Models"
   ],
   "metadata": {
    "collapsed": false,
    "pycharm": {
     "name": "#%% md\n"
    },
    "id": "wOeXJ6rBUAQW"
   }
  },
  {
   "cell_type": "code",
   "execution_count": 18,
   "outputs": [
    {
     "data": {
      "text/plain": "<module 'ImageConvNet' from 'G:\\\\My Drive\\\\Chronical\\\\2023Spring\\\\ML_drive\\\\MLHW3\\\\ImageConvNet.py'>"
     },
     "execution_count": 18,
     "metadata": {},
     "output_type": "execute_result"
    }
   ],
   "source": [
    "import ImageConvNet\n",
    "importlib.reload(ImageConvNet)"
   ],
   "metadata": {
    "pycharm": {
     "name": "#%%\n"
    },
    "id": "8tQsWjDaUAQX",
    "executionInfo": {
     "status": "aborted",
     "timestamp": 1688984385401,
     "user_tz": -480,
     "elapsed": 7,
     "user": {
      "displayName": "Chieh-Hung Cheng",
      "userId": "08338419796432546381"
     }
    }
   }
  },
  {
   "cell_type": "code",
   "execution_count": 19,
   "outputs": [
    {
     "name": "stdout",
     "output_type": "stream",
     "text": [
      "Model, Criterion, Optimizer complete\n"
     ]
    }
   ],
   "source": [
    "Config.model = ImageConvNet.ImageConvNet().to(Config.device)\n",
    "Config.criterion = nn.CrossEntropyLoss()\n",
    "Config.optimizer = torch.optim.Adam(Config.model.parameters(), lr=Config.learning_rate)\n",
    "print(\"Model, Criterion, Optimizer complete\")"
   ],
   "metadata": {
    "pycharm": {
     "name": "#%%\n"
    },
    "id": "CtY8bSw2UAQX",
    "executionInfo": {
     "status": "aborted",
     "timestamp": 1688984385401,
     "user_tz": -480,
     "elapsed": 7,
     "user": {
      "displayName": "Chieh-Hung Cheng",
      "userId": "08338419796432546381"
     }
    }
   }
  },
  {
   "cell_type": "markdown",
   "source": [
    "# Training"
   ],
   "metadata": {
    "collapsed": false,
    "pycharm": {
     "name": "#%% md\n"
    },
    "id": "VHEO6MBfUAQX"
   }
  },
  {
   "cell_type": "code",
   "execution_count": 20,
   "outputs": [
    {
     "data": {
      "text/plain": "<module 'Trainer' from 'G:\\\\My Drive\\\\Chronical\\\\2023Spring\\\\ML_drive\\\\MLHW3\\\\Trainer.py'>"
     },
     "execution_count": 20,
     "metadata": {},
     "output_type": "execute_result"
    }
   ],
   "source": [
    "import Trainer\n",
    "importlib.reload(Trainer)"
   ],
   "metadata": {
    "pycharm": {
     "name": "#%%\n"
    },
    "id": "_kHP97yOUAQX",
    "executionInfo": {
     "status": "aborted",
     "timestamp": 1688984385401,
     "user_tz": -480,
     "elapsed": 7,
     "user": {
      "displayName": "Chieh-Hung Cheng",
      "userId": "08338419796432546381"
     }
    }
   }
  },
  {
   "cell_type": "code",
   "execution_count": 21,
   "outputs": [
    {
     "name": "stderr",
     "output_type": "stream",
     "text": [
      "9/10000:   0%|          | 9/10000 [15:21<284:05:06, 102.36s/it, train_loss=2.2642, valid_loss=2.2145, early_countdown=48, accuracy=26.63%]\n"
     ]
    },
    {
     "ename": "KeyboardInterrupt",
     "evalue": "",
     "output_type": "error",
     "traceback": [
      "\u001B[1;31m---------------------------------------------------------------------------\u001B[0m",
      "\u001B[1;31mKeyboardInterrupt\u001B[0m                         Traceback (most recent call last)",
      "Cell \u001B[1;32mIn[21], line 2\u001B[0m\n\u001B[0;32m      1\u001B[0m trainer \u001B[38;5;241m=\u001B[39m Trainer\u001B[38;5;241m.\u001B[39mTrainer()\n\u001B[1;32m----> 2\u001B[0m \u001B[43mtrainer\u001B[49m\u001B[38;5;241;43m.\u001B[39;49m\u001B[43mtrain\u001B[49m\u001B[43m(\u001B[49m\u001B[43m)\u001B[49m\n",
      "File \u001B[1;32mG:\\My Drive\\Chronical\\2023Spring\\ML_drive\\MLHW3\\Trainer.py:49\u001B[0m, in \u001B[0;36mTrainer.train\u001B[1;34m(self)\u001B[0m\n\u001B[0;32m     46\u001B[0m y_pred \u001B[38;5;241m=\u001B[39m Config\u001B[38;5;241m.\u001B[39mmodel(x_b)\n\u001B[0;32m     48\u001B[0m loss \u001B[38;5;241m=\u001B[39m Config\u001B[38;5;241m.\u001B[39mcriterion(y_pred, y_b)\n\u001B[1;32m---> 49\u001B[0m loss_record\u001B[38;5;241m.\u001B[39mappend(\u001B[43mloss\u001B[49m\u001B[38;5;241;43m.\u001B[39;49m\u001B[43mdetach\u001B[49m\u001B[43m(\u001B[49m\u001B[43m)\u001B[49m\u001B[38;5;241;43m.\u001B[39;49m\u001B[43mitem\u001B[49m\u001B[43m(\u001B[49m\u001B[43m)\u001B[49m)\n\u001B[0;32m     51\u001B[0m label_pred \u001B[38;5;241m=\u001B[39m torch\u001B[38;5;241m.\u001B[39margmax(y_pred, dim\u001B[38;5;241m=\u001B[39m\u001B[38;5;241m1\u001B[39m)\n\u001B[0;32m     52\u001B[0m label_truth \u001B[38;5;241m=\u001B[39m y_b\n",
      "\u001B[1;31mKeyboardInterrupt\u001B[0m: "
     ]
    }
   ],
   "source": [
    "trainer = Trainer.Trainer()\n",
    "trainer.train()"
   ],
   "metadata": {
    "pycharm": {
     "name": "#%%\n"
    },
    "id": "-EmCtJ6zUAQY",
    "executionInfo": {
     "status": "aborted",
     "timestamp": 1688984385402,
     "user_tz": -480,
     "elapsed": 8,
     "user": {
      "displayName": "Chieh-Hung Cheng",
      "userId": "08338419796432546381"
     }
    }
   }
  },
  {
   "cell_type": "markdown",
   "source": [],
   "metadata": {
    "collapsed": false,
    "pycharm": {
     "name": "#%% md\n"
    },
    "id": "t8nSlf5pUAQY"
   }
  }
 ],
 "metadata": {
  "kernelspec": {
   "display_name": "Python 3",
   "language": "python",
   "name": "python3"
  },
  "language_info": {
   "codemirror_mode": {
    "name": "ipython",
    "version": 2
   },
   "file_extension": ".py",
   "mimetype": "text/x-python",
   "name": "python",
   "nbconvert_exporter": "python",
   "pygments_lexer": "ipython2",
   "version": "2.7.6"
  },
  "colab": {
   "provenance": []
  }
 },
 "nbformat": 4,
 "nbformat_minor": 0
}