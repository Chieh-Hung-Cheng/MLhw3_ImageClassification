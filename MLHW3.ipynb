{
 "cells": [
  {
   "cell_type": "code",
   "execution_count": 1,
   "outputs": [
    {
     "name": "stdout",
     "output_type": "stream",
     "text": [
      "Imports Done\n"
     ]
    }
   ],
   "source": [
    "# IMPORTS\n",
    "# Numerical Operations\n",
    "import math\n",
    "import numpy as np\n",
    "\n",
    "# Reading/Writing Data\n",
    "import pandas as pd\n",
    "import os\n",
    "import csv\n",
    "\n",
    "# For Progress Bar\n",
    "from tqdm import tqdm\n",
    "\n",
    "# Pytorch\n",
    "import torch\n",
    "import torch.nn as nn\n",
    "from torch.utils.data import Dataset, DataLoader, random_split\n",
    "\n",
    "# For plotting learning curve\n",
    "from torch.utils.tensorboard import SummaryWriter\n",
    "\n",
    "# Other Common Modules\n",
    "from datetime import datetime, timedelta\n",
    "import importlib\n",
    "\n",
    "# IMPORT COMPLETE\n",
    "print(\"Imports Done\")"
   ],
   "metadata": {
    "collapsed": false,
    "pycharm": {
     "name": "#%%\n"
    }
   }
  },
  {
   "cell_type": "code",
   "execution_count": 2,
   "outputs": [
    {
     "name": "stdout",
     "output_type": "stream",
     "text": [
      "Running on Local\n"
     ]
    }
   ],
   "source": [
    "if 'google.colab' in str(get_ipython()):\n",
    "    print('Running on CoLab')\n",
    "    timenow = datetime.now()+timedelta(hours=8)\n",
    "    from google.colab import drive\n",
    "    drive.mount('/content/drive')\n",
    "    os.chdir(\"/content/drive/MyDrive/Chronical/2023Spring/ML_drive/MLHW3\")\n",
    "    # Config from base_path\n",
    "    import Config\n",
    "    importlib.reload(Config)\n",
    "    from Config import Config\n",
    "    # Datapath\n",
    "    Config.data_path = r\"\"\n",
    "else:\n",
    "    print('Running on Local')\n",
    "    timenow = datetime.now()\n",
    "    # Config from base_path\n",
    "    import Config\n",
    "    importlib.reload(Config)\n",
    "    from Config import Config\n",
    "    # Datapath\n",
    "    Config.data_path = r\"D:\\ML_Dataset\\HW3\"\n"
   ],
   "metadata": {
    "collapsed": false,
    "pycharm": {
     "name": "#%%\n"
    }
   }
  },
  {
   "cell_type": "code",
   "execution_count": 3,
   "outputs": [
    {
     "name": "stdout",
     "output_type": "stream",
     "text": [
      "Config.base_path='G:\\\\My Drive\\\\Chronical\\\\2023Spring\\\\ML_drive\\\\MLHW3'\n",
      "Config.data_path='D:\\\\ML_Dataset\\\\HW3'\n",
      "Config.save_path='G:\\\\My Drive\\\\Chronical\\\\2023Spring\\\\ML_drive\\\\MLHW3\\\\.model'\n",
      "Config.output_path='G:\\\\My Drive\\\\Chronical\\\\2023Spring\\\\ML_drive\\\\MLHW3\\\\output'\n",
      "Config.time_string='12560712'\n"
     ]
    }
   ],
   "source": [
    "Config.base_path = os.getcwd()\n",
    "Config.save_path = os.path.join(Config.base_path, \".model\")\n",
    "Config.output_path = os.path.join(Config.base_path, \"output\")\n",
    "\n",
    "if not os.path.isdir(Config.save_path):\n",
    "    os.mkdir(Config.save_path)\n",
    "if not os.path.isdir(Config.output_path):\n",
    "    os.mkdir(Config.output_path)\n",
    "\n",
    "Config.time_string = f\"{timenow.hour:02d}{timenow.minute:02d}{timenow.month:02d}{timenow.day:02d}\"\n",
    "\n",
    "print(f\"{Config.base_path=}\")\n",
    "print(f\"{Config.data_path=}\")\n",
    "print(f\"{Config.save_path=}\")\n",
    "print(f\"{Config.output_path=}\")\n",
    "print(f\"{Config.time_string=}\")"
   ],
   "metadata": {
    "pycharm": {
     "name": "#%%\n"
    },
    "id": "U_nihHSPUAQT",
    "executionInfo": {
     "status": "aborted",
     "timestamp": 1688984385399,
     "user_tz": -480,
     "elapsed": 5,
     "user": {
      "displayName": "Chieh-Hung Cheng",
      "userId": "08338419796432546381"
     }
    }
   }
  },
  {
   "cell_type": "code",
   "execution_count": 4,
   "outputs": [
    {
     "name": "stdout",
     "output_type": "stream",
     "text": [
      "Randomness Fixed\n"
     ]
    }
   ],
   "source": [
    "# RANDOMNESS FIXED\n",
    "import utils\n",
    "importlib.reload(utils)\n",
    "utils.fix_randomness(Config.seed)"
   ],
   "metadata": {
    "pycharm": {
     "name": "#%%\n"
    },
    "id": "48NI2CbKUAQU",
    "executionInfo": {
     "status": "aborted",
     "timestamp": 1688984385400,
     "user_tz": -480,
     "elapsed": 6,
     "user": {
      "displayName": "Chieh-Hung Cheng",
      "userId": "08338419796432546381"
     }
    }
   }
  },
  {
   "cell_type": "markdown",
   "source": [
    "# Dataset and DataLoader"
   ],
   "metadata": {
    "collapsed": false,
    "pycharm": {
     "name": "#%% md\n"
    },
    "id": "_IC-wBLQUAQU"
   }
  },
  {
   "cell_type": "code",
   "execution_count": 5,
   "outputs": [
    {
     "data": {
      "text/plain": "<module 'ImageParser' from 'G:\\\\My Drive\\\\Chronical\\\\2023Spring\\\\ML_drive\\\\MLHW3\\\\ImageParser.py'>"
     },
     "execution_count": 5,
     "metadata": {},
     "output_type": "execute_result"
    }
   ],
   "source": [
    "import ImageParser\n",
    "importlib.reload(ImageParser)"
   ],
   "metadata": {
    "pycharm": {
     "name": "#%%\n"
    },
    "id": "JJI8aQsaUAQV",
    "executionInfo": {
     "status": "aborted",
     "timestamp": 1688984385400,
     "user_tz": -480,
     "elapsed": 6,
     "user": {
      "displayName": "Chieh-Hung Cheng",
      "userId": "08338419796432546381"
     }
    }
   }
  },
  {
   "cell_type": "code",
   "execution_count": 6,
   "outputs": [],
   "source": [
    "train_dataset = ImageParser.ImageDataset(\"train\")\n",
    "valid_dataset = ImageParser.ImageDataset(\"valid\")"
   ],
   "metadata": {
    "pycharm": {
     "name": "#%%\n"
    },
    "id": "8-R4-HnrUAQW",
    "executionInfo": {
     "status": "aborted",
     "timestamp": 1688984385400,
     "user_tz": -480,
     "elapsed": 6,
     "user": {
      "displayName": "Chieh-Hung Cheng",
      "userId": "08338419796432546381"
     }
    }
   }
  },
  {
   "cell_type": "code",
   "execution_count": 7,
   "outputs": [],
   "source": [
    "Config.train_loader = DataLoader(train_dataset, Config.batch_size, shuffle=True)\n",
    "Config.valid_loader = DataLoader(valid_dataset, Config.batch_size, shuffle=True)"
   ],
   "metadata": {
    "pycharm": {
     "name": "#%%\n"
    },
    "id": "x4IG9ty3UAQW",
    "executionInfo": {
     "status": "aborted",
     "timestamp": 1688984385401,
     "user_tz": -480,
     "elapsed": 7,
     "user": {
      "displayName": "Chieh-Hung Cheng",
      "userId": "08338419796432546381"
     }
    }
   }
  },
  {
   "cell_type": "markdown",
   "source": [
    "# Models"
   ],
   "metadata": {
    "collapsed": false,
    "pycharm": {
     "name": "#%% md\n"
    },
    "id": "wOeXJ6rBUAQW"
   }
  },
  {
   "cell_type": "code",
   "execution_count": 8,
   "outputs": [
    {
     "data": {
      "text/plain": "<module 'ImageConvNet' from 'G:\\\\My Drive\\\\Chronical\\\\2023Spring\\\\ML_drive\\\\MLHW3\\\\ImageConvNet.py'>"
     },
     "execution_count": 8,
     "metadata": {},
     "output_type": "execute_result"
    }
   ],
   "source": [
    "import ImageConvNet\n",
    "importlib.reload(ImageConvNet)"
   ],
   "metadata": {
    "pycharm": {
     "name": "#%%\n"
    },
    "id": "8tQsWjDaUAQX",
    "executionInfo": {
     "status": "aborted",
     "timestamp": 1688984385401,
     "user_tz": -480,
     "elapsed": 7,
     "user": {
      "displayName": "Chieh-Hung Cheng",
      "userId": "08338419796432546381"
     }
    }
   }
  },
  {
   "cell_type": "code",
   "execution_count": 9,
   "outputs": [
    {
     "name": "stdout",
     "output_type": "stream",
     "text": [
      "Model, Criterion, Optimizer complete\n"
     ]
    }
   ],
   "source": [
    "Config.model = ImageConvNet.ImageConvNet().to(Config.device)\n",
    "Config.criterion = nn.CrossEntropyLoss()\n",
    "Config.optimizer = torch.optim.Adam(Config.model.parameters(), lr=Config.learning_rate, weight_decay=1e-5)\n",
    "print(\"Model, Criterion, Optimizer complete\")"
   ],
   "metadata": {
    "pycharm": {
     "name": "#%%\n"
    },
    "id": "CtY8bSw2UAQX",
    "executionInfo": {
     "status": "aborted",
     "timestamp": 1688984385401,
     "user_tz": -480,
     "elapsed": 7,
     "user": {
      "displayName": "Chieh-Hung Cheng",
      "userId": "08338419796432546381"
     }
    }
   }
  },
  {
   "cell_type": "markdown",
   "source": [
    "# Training"
   ],
   "metadata": {
    "collapsed": false,
    "pycharm": {
     "name": "#%% md\n"
    },
    "id": "VHEO6MBfUAQX"
   }
  },
  {
   "cell_type": "code",
   "execution_count": 10,
   "outputs": [
    {
     "data": {
      "text/plain": "<module 'Trainer' from 'G:\\\\My Drive\\\\Chronical\\\\2023Spring\\\\ML_drive\\\\MLHW3\\\\Trainer.py'>"
     },
     "execution_count": 10,
     "metadata": {},
     "output_type": "execute_result"
    }
   ],
   "source": [
    "import Trainer\n",
    "importlib.reload(Trainer)"
   ],
   "metadata": {
    "pycharm": {
     "name": "#%%\n"
    },
    "id": "_kHP97yOUAQX",
    "executionInfo": {
     "status": "aborted",
     "timestamp": 1688984385401,
     "user_tz": -480,
     "elapsed": 7,
     "user": {
      "displayName": "Chieh-Hung Cheng",
      "userId": "08338419796432546381"
     }
    }
   }
  },
  {
   "cell_type": "code",
   "execution_count": null,
   "outputs": [
    {
     "name": "stderr",
     "output_type": "stream",
     "text": [
      "42/10000:   0%|          | 42/10000 [3:08:55<733:26:26, 265.15s/it, train_loss=1.6602, valid_loss=1.3789, early_countdown=50, accuracy=66.48%]"
     ]
    }
   ],
   "source": [
    "trainer = Trainer.Trainer()\n",
    "trainer.train()"
   ],
   "metadata": {
    "pycharm": {
     "name": "#%%\n"
    },
    "id": "-EmCtJ6zUAQY",
    "executionInfo": {
     "status": "aborted",
     "timestamp": 1688984385402,
     "user_tz": -480,
     "elapsed": 8,
     "user": {
      "displayName": "Chieh-Hung Cheng",
      "userId": "08338419796432546381"
     }
    }
   }
  },
  {
   "cell_type": "markdown",
   "source": [
    "# Testing"
   ],
   "metadata": {
    "collapsed": false,
    "pycharm": {
     "name": "#%% md\n"
    },
    "id": "t8nSlf5pUAQY"
   }
  },
  {
   "cell_type": "code",
   "execution_count": 19,
   "outputs": [
    {
     "data": {
      "text/plain": "<module 'Inferencer' from 'G:\\\\My Drive\\\\Chronical\\\\2023Spring\\\\ML_drive\\\\MLHW3\\\\Inferencer.py'>"
     },
     "execution_count": 19,
     "metadata": {},
     "output_type": "execute_result"
    }
   ],
   "source": [
    "import Inferencer\n",
    "importlib.reload(Inferencer)"
   ],
   "metadata": {
    "collapsed": false,
    "pycharm": {
     "name": "#%%\n"
    }
   }
  },
  {
   "cell_type": "code",
   "execution_count": 20,
   "outputs": [],
   "source": [
    "test_dataset = ImageParser.ImageDataset(\"test\")\n",
    "Config.test_loader = DataLoader(test_dataset, Config.batch_size, shuffle=False)"
   ],
   "metadata": {
    "collapsed": false,
    "pycharm": {
     "name": "#%%\n"
    }
   }
  },
  {
   "cell_type": "code",
   "execution_count": 21,
   "outputs": [
    {
     "name": "stdout",
     "output_type": "stream",
     "text": [
      "Loaded model_22440711.ckpt into Config.model\n"
     ]
    },
    {
     "name": "stderr",
     "output_type": "stream",
     "text": [
      "100%|██████████| 24/24 [00:12<00:00,  1.85it/s]\n"
     ]
    }
   ],
   "source": [
    "utils.load_model(\"22440711\")\n",
    "inferencer = Inferencer.Inferencer()\n",
    "inferencer.infer()"
   ],
   "metadata": {
    "collapsed": false,
    "pycharm": {
     "name": "#%%\n"
    }
   }
  }
 ],
 "metadata": {
  "kernelspec": {
   "display_name": "Python 3",
   "language": "python",
   "name": "python3"
  },
  "language_info": {
   "codemirror_mode": {
    "name": "ipython",
    "version": 2
   },
   "file_extension": ".py",
   "mimetype": "text/x-python",
   "name": "python",
   "nbconvert_exporter": "python",
   "pygments_lexer": "ipython2",
   "version": "2.7.6"
  },
  "colab": {
   "provenance": []
  }
 },
 "nbformat": 4,
 "nbformat_minor": 0
}